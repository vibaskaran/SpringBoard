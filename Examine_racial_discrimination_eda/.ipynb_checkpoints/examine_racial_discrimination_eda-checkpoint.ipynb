{
 "cells": [
  {
   "cell_type": "markdown",
   "metadata": {},
   "source": [
    "# Examining Racial Discrimination in the US Job Market\n",
    "\n",
    "### Background\n",
    "Racial discrimination continues to be pervasive in cultures throughout the world. Researchers examined the level of racial discrimination in the United States labor market by randomly assigning identical résumés to black-sounding or white-sounding names and observing the impact on requests for interviews from employers.\n",
    "\n",
    "### Data\n",
    "In the dataset provided, each row represents a resume. The 'race' column has two values, 'b' and 'w', indicating black-sounding and white-sounding. The column 'call' has two values, 1 and 0, indicating whether the resume received a call from employers or not.\n",
    "\n",
    "Note that the 'b' and 'w' values in race are assigned randomly to the resumes when presented to the employer."
   ]
  },
  {
   "cell_type": "markdown",
   "metadata": {},
   "source": [
    "### Exercises\n",
    "You will perform a statistical analysis to establish whether race has a significant impact on the rate of callbacks for resumes.\n",
    "\n",
    "Answer the following questions **in this notebook below and submit to your Github account**. \n",
    "\n",
    "   1. What test is appropriate for this problem? Does CLT apply?\n",
    "   2. What are the null and alternate hypotheses?\n",
    "   3. Compute margin of error, confidence interval, and p-value. Try using both the bootstrapping and the frequentist statistical approaches.\n",
    "   4. Write a story describing the statistical significance in the context or the original problem.\n",
    "   5. Does your analysis mean that race/name is the most important factor in callback success? Why or why not? If not, how would you amend your analysis?\n",
    "\n",
    "You can include written notes in notebook cells using Markdown: \n",
    "   - In the control panel at the top, choose Cell > Cell Type > Markdown\n",
    "   - Markdown syntax: http://nestacms.com/docs/creating-content/markdown-cheat-sheet\n",
    "\n",
    "\n",
    "#### Resources\n",
    "+ Experiment information and data source: http://www.povertyactionlab.org/evaluation/discrimination-job-market-united-states\n",
    "+ Scipy statistical methods: http://docs.scipy.org/doc/scipy/reference/stats.html \n",
    "+ Markdown syntax: http://nestacms.com/docs/creating-content/markdown-cheat-sheet\n",
    "+ Formulas for the Bernoulli distribution: https://en.wikipedia.org/wiki/Bernoulli_distribution\n"
   ]
  },
  {
   "cell_type": "code",
   "execution_count": 1,
   "metadata": {},
   "outputs": [],
   "source": [
    "from __future__ import division\n",
    "import pandas as pd\n",
    "import numpy as np\n",
    "from scipy import stats\n",
    "import seaborn as sns\n",
    "import warnings\n",
    "import math\n",
    "warnings.filterwarnings('ignore')\n",
    "%matplotlib inline"
   ]
  },
  {
   "cell_type": "code",
   "execution_count": 2,
   "metadata": {},
   "outputs": [],
   "source": [
    "data = pd.io.stata.read_stata('data/us_job_market_discrimination.dta')\n",
    "#data.head()"
   ]
  },
  {
   "cell_type": "code",
   "execution_count": 3,
   "metadata": {},
   "outputs": [],
   "source": [
    "# data.info()"
   ]
  },
  {
   "cell_type": "code",
   "execution_count": 4,
   "metadata": {},
   "outputs": [
    {
     "data": {
      "text/plain": [
       "4870"
      ]
     },
     "execution_count": 4,
     "metadata": {},
     "output_type": "execute_result"
    }
   ],
   "source": [
    "len(data)"
   ]
  },
  {
   "cell_type": "code",
   "execution_count": 5,
   "metadata": {},
   "outputs": [
    {
     "data": {
      "text/plain": [
       "count     4870\n",
       "unique       2\n",
       "top          b\n",
       "freq      2435\n",
       "Name: race, dtype: object"
      ]
     },
     "execution_count": 5,
     "metadata": {},
     "output_type": "execute_result"
    }
   ],
   "source": [
    "data.race.describe()"
   ]
  },
  {
   "cell_type": "code",
   "execution_count": 6,
   "metadata": {},
   "outputs": [
    {
     "name": "stdout",
     "output_type": "stream",
     "text": [
      "Black names call: 157.0\n",
      "White names call: 235.0\n"
     ]
    }
   ],
   "source": [
    "# number of callbacks for black-sounding names\n",
    "print('Black names call:',np.sum(data[data.race=='b'].call))\n",
    "print('White names call:',np.sum(data[data.race=='w'].call))"
   ]
  },
  {
   "cell_type": "code",
   "execution_count": 7,
   "metadata": {},
   "outputs": [
    {
     "data": {
      "text/plain": [
       "call\n",
       "0.0    4478\n",
       "1.0     392\n",
       "dtype: int64"
      ]
     },
     "execution_count": 7,
     "metadata": {},
     "output_type": "execute_result"
    }
   ],
   "source": [
    "data.groupby('call').size()"
   ]
  },
  {
   "cell_type": "code",
   "execution_count": 8,
   "metadata": {},
   "outputs": [
    {
     "name": "stdout",
     "output_type": "stream",
     "text": [
      "sample size = 4870\n"
     ]
    },
    {
     "data": {
      "text/html": [
       "<div>\n",
       "<style scoped>\n",
       "    .dataframe tbody tr th:only-of-type {\n",
       "        vertical-align: middle;\n",
       "    }\n",
       "\n",
       "    .dataframe tbody tr th {\n",
       "        vertical-align: top;\n",
       "    }\n",
       "\n",
       "    .dataframe thead th {\n",
       "        text-align: right;\n",
       "    }\n",
       "</style>\n",
       "<table border=\"1\" class=\"dataframe\">\n",
       "  <thead>\n",
       "    <tr style=\"text-align: right;\">\n",
       "      <th></th>\n",
       "      <th>race</th>\n",
       "      <th>call</th>\n",
       "    </tr>\n",
       "  </thead>\n",
       "  <tbody>\n",
       "    <tr>\n",
       "      <th>0</th>\n",
       "      <td>w</td>\n",
       "      <td>0.0</td>\n",
       "    </tr>\n",
       "    <tr>\n",
       "      <th>1</th>\n",
       "      <td>w</td>\n",
       "      <td>0.0</td>\n",
       "    </tr>\n",
       "    <tr>\n",
       "      <th>2</th>\n",
       "      <td>b</td>\n",
       "      <td>0.0</td>\n",
       "    </tr>\n",
       "    <tr>\n",
       "      <th>3</th>\n",
       "      <td>b</td>\n",
       "      <td>0.0</td>\n",
       "    </tr>\n",
       "    <tr>\n",
       "      <th>4</th>\n",
       "      <td>w</td>\n",
       "      <td>0.0</td>\n",
       "    </tr>\n",
       "  </tbody>\n",
       "</table>\n",
       "</div>"
      ],
      "text/plain": [
       "  race  call\n",
       "0    w   0.0\n",
       "1    w   0.0\n",
       "2    b   0.0\n",
       "3    b   0.0\n",
       "4    w   0.0"
      ]
     },
     "execution_count": 8,
     "metadata": {},
     "output_type": "execute_result"
    }
   ],
   "source": [
    "# narrow down to columns of interest\n",
    "data = pd.concat([data.race,data.call], axis=1)\n",
    "print('sample size =',len(data))\n",
    "data.head()"
   ]
  },
  {
   "cell_type": "code",
   "execution_count": 9,
   "metadata": {},
   "outputs": [
    {
     "data": {
      "text/plain": [
       "<matplotlib.axes._subplots.AxesSubplot at 0x2d2725fc358>"
      ]
     },
     "execution_count": 9,
     "metadata": {},
     "output_type": "execute_result"
    },
    {
     "data": {
      "image/png": "[encoded data removed]",
      "text/plain": [
       "<Figure size 432x288 with 1 Axes>"
      ]
     },
     "metadata": {},
     "output_type": "display_data"
    }
   ],
   "source": [
    "# countplot of callbacks for black & white-sounding names\n",
    "sns.countplot(x=data.call, hue=data.race)"
   ]
  },
  {
   "cell_type": "markdown",
   "metadata": {
    "collapsed": true
   },
   "source": [
    "<div class=\"span5 alert alert-success\">\n",
    "<h2>SOLUTION: What test is appropriate for this problem?</h2>\n",
    "\n",
    "<p>This is an interesting question, and it can be argued that there are two possible correct answers (such is life). First note the wording of the question: does race have a *significant impact* on callback. This usually suggests a $\\chi^2$-test, but the $\\chi^2$-test requires *frequencies* rather than percentages. Interestingly, one of the code snippets above uses frequency so we will look at that in a bit.</p>\n",
    "\n",
    "For now, a two-sample $z$-test:\n",
    "\n",
    "$$z = \\frac{\\left( \\hat{p}_W - \\hat{p}_B \\right) - 0}{\\sqrt{\\hat{p} (1 - \\hat{p)} \\left( \\frac{1}{n_W} + \\frac{1}{n_B}\\right)}}$$\n",
    "\n",
    "where\n",
    "\n",
    "$$\\hat{p} = \\frac{y_W + y_B}{n_W + n_B}$$\n",
    "\n",
    "The null and alternate hypotheses:\n",
    "\n",
    "$$H_0: p_B = p_W$$\n",
    "$$H_A: p_B \\ne p_W$$\n",
    "\n",
    "CLT applies because we assume that the samples are representative of the population. The observations in each sample are assumed to be independent since the sample was drawn randomly."
   ]
  },
  {
   "cell_type": "code",
   "execution_count": 10,
   "metadata": {},
   "outputs": [
    {
     "name": "stdout",
     "output_type": "stream",
     "text": [
      "Z score: 4.108412152434346\n",
      "P-value: 3.983886837585077e-05\n"
     ]
    }
   ],
   "source": [
    "w = data[data.race=='w']\n",
    "b = data[data.race=='b']\n",
    "\n",
    "n_w = len(w)\n",
    "n_b = len(b)\n",
    "\n",
    "prop_w = np.sum(w.call) / len(w)\n",
    "prop_b = np.sum(b.call) / len(b)\n",
    "\n",
    "prop_diff = prop_w - prop_b\n",
    "phat = (np.sum(w.call) + np.sum(b.call)) / (len(w) + len(b))\n",
    "\n",
    "z = prop_diff / np.sqrt(phat * (1 - phat) * ((1 / n_w) + (1 / n_b)))\n",
    "pval = stats.norm.cdf(-z) * 2\n",
    "print(\"Z score: {}\".format(z))\n",
    "print(\"P-value: {}\".format(pval))"
   ]
  },
  {
   "cell_type": "code",
   "execution_count": 11,
   "metadata": {},
   "outputs": [
    {
     "name": "stdout",
     "output_type": "stream",
     "text": [
      "Margin of Error: 0.015281912310894095\n",
      "Confidence interval: [ 0.01675094  0.04731477]\n"
     ]
    }
   ],
   "source": [
    "moe = 1.96 * np.sqrt(phat * (1 - phat) * ((1 / n_w) + (1 / n_b)))\n",
    "ci = prop_diff + np.array([-1, 1]) * moe\n",
    "print(\"Margin of Error: {}\".format(moe))\n",
    "print(\"Confidence interval: {}\".format(ci))"
   ]
  },
  {
   "cell_type": "markdown",
   "metadata": {},
   "source": [
    "<div class=\"span5 alert alert-success\">\n",
    "<p>The p-value is practically 0 so we reject the null hypothesis that white and black sounding names have the same callback rate. They do not.</p>\n",
    "\n",
    "<p>Since 0 is not in the confidence interval, we reject the null hypothesis with the same conclusion.</p>\n",
    "\n",
    "<h4>SOLUTION: Does your analysis mean that race/name is the most important factor in callback success? Why or why not? If not, how would you amend your analysis?</h4>\n",
    "\n",
    "<p>No! While our test did show that there is a difference in callback rate based on race alone, there are other variables that may also contribute to, or interact with, race to explain the difference. In the original research paper, the researchers cited geography/city as a confounding variable. Additionally, we could also look at education and experience levels as well. But, in our very narrow example, we have shown that there is a significant difference in callback rates between white people and black people.</p>\n",
    "\n",
    "<p>The $\\chi^2$ approach:</p>\n",
    "</div>"
   ]
  },
  {
   "cell_type": "code",
   "execution_count": 12,
   "metadata": {},
   "outputs": [
    {
     "name": "stdout",
     "output_type": "stream",
     "text": [
      "Chi-squared test statistic: 16.44902858418937\n",
      "p-value: 4.997578389963255e-05\n"
     ]
    }
   ],
   "source": [
    "cont_table = pd.crosstab(index=data.call, columns=data.race)\n",
    "chi2, pval, _, _ = stats.chi2_contingency(cont_table)\n",
    "print(\"Chi-squared test statistic: {}\".format(chi2))\n",
    "print(\"p-value: {}\".format(pval))"
   ]
  },
  {
   "cell_type": "markdown",
   "metadata": {},
   "source": [
    "<div class=\"span5 alert alert-success\">\n",
    "The chi-squared test yields a similar result. We reject the null hypothesis that race and callback rate are independent. The margin of error and confidence interval calculations are a bit more complicated because the chi-squared distribution is not always symmetric, depending on the number of degrees of freedom.\n",
    "</div>"
   ]
  },
  {
   "cell_type": "markdown",
   "metadata": {
    "collapsed": true
   },
   "source": [
    "\n",
    "### Answer to Question 1&2:\n",
    "\n",
    "#### 1.Based on the number of samples this should be a z-test. Since the names is randomly selected, I am going to assume the CLT applies. (I do not know how to correctly test this assumpation, last mini project I can use body tempature, but I do not know which feature to analyze in this one)\n",
    "#### 2.the null hypotheses indicates there is no racial discrimination going on in the employment, the alternative hypotheses indicates thta race does matter in the employment."
   ]
  },
  {
   "cell_type": "code",
   "execution_count": 13,
   "metadata": {},
   "outputs": [
    {
     "name": "stdout",
     "output_type": "stream",
     "text": [
      "Acutal Difference: 78.0\n",
      "95% Confidence Interval: [  41.  115.]\n"
     ]
    }
   ],
   "source": [
    "white = data[data.race=='w'].call\n",
    "black = data[data.race=='b'].call\n",
    "\n",
    "diff = np.sum(white) - np.sum(black)\n",
    "print('Acutal Difference:',diff)\n",
    "\n",
    "bs_times = 10000\n",
    "\n",
    "bs_diff = np.empty(bs_times)\n",
    "\n",
    "for i in range(bs_times):\n",
    "    bs_white = np.random.choice(white, len(white))\n",
    "    bs_black = np.random.choice(black, len(black))\n",
    "    \n",
    "    bs_diff[i] = np.sum(bs_white) - np.sum(bs_black)\n",
    "    \n",
    "print('95% Confidence Interval:',np.percentile(bs_diff, [2.5, 97.5]))"
   ]
  },
  {
   "cell_type": "code",
   "execution_count": 14,
   "metadata": {},
   "outputs": [
    {
     "name": "stdout",
     "output_type": "stream",
     "text": [
      "p value for null hypotheses: 1e-05\n"
     ]
    }
   ],
   "source": [
    "permu_times = 100000\n",
    "\n",
    "conc_sample = np.concatenate((white,black))\n",
    "\n",
    "perm_diff = np.empty(permu_times)\n",
    "for i in range(permu_times):\n",
    "    perm_all = np.random.permutation(conc_sample)\n",
    "    permu_white = perm_all[:len(white)]\n",
    "    permu_black = perm_all[len(white):]\n",
    "    perm_diff[i] = np.sum(permu_white)-np.sum(permu_black)\n",
    "\n",
    "print('p value for null hypotheses:',np.sum(perm_diff>diff)/len(perm_diff))"
   ]
  },
  {
   "cell_type": "markdown",
   "metadata": {},
   "source": [
    "#### Answer to Question 3, 4 & 5:\n",
    "\n",
    "##### 3.I am not sure how to compute margin of error. For the call rate difference between balck and white, the actual value is 78, the 95% confidence interval using bootstrap is [41, 116], and p value is close to 0.\n",
    "\n",
    "##### 4.I conducted an analysis based on the given data, a total of 2435 black names and 2435 white names are used, and 157 black names get called, and 235 white names get called. The difference between them is 78, using bootstrap technic it is concluded that the 95% confidence interval for this value is [41, 116], and p value for the null hypotheses that race does not affect callback rate is 0 when simulated using permuation for ten thousand times, this indicates a high unlikely for null hyoitheses to stand, and race does influence the call back rate.\n",
    "\n",
    "##### 5.With above being said, we cannot conclude the race/name is the most important factor in this experiment. For example, although the names are randomly assigned, it could be the case that resumes with white names have higher working experience on average than those with black names. In order to clarify this, I need to test the null hypotheses that resumes with white and black names have same distribution in other features (education, work experience, etc.)"
   ]
  },
  {
   "cell_type": "code",
   "execution_count": null,
   "metadata": {},
   "outputs": [],
   "source": []
  }
 ],
 "metadata": {
  "kernelspec": {
   "display_name": "Python 3",
   "language": "python",
   "name": "python3"
  },
  "language_info": {
   "codemirror_mode": {
    "name": "ipython",
    "version": 3
   },
   "file_extension": ".py",
   "mimetype": "text/x-python",
   "name": "python",
   "nbconvert_exporter": "python",
   "pygments_lexer": "ipython3",
   "version": "3.6.4"
  }
 },
 "nbformat": 4,
 "nbformat_minor": 1
}
